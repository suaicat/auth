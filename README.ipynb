{
 "cells": [
  {
   "metadata": {},
   "cell_type": "markdown",
   "source": [
    "### Авторизация ГУАП\n",
    "\n",
    "Примерный алгоритм реализации кастомной авторизации в системе личного кабинета ГУАП. Представлю на Kotlin, но при желании можно адаптировать на любой язык.\n"
   ]
  },
  {
   "metadata": {},
   "cell_type": "markdown",
   "source": "Установка библиотек"
  },
  {
   "metadata": {
    "ExecuteTime": {
     "end_time": "2025-05-06T13:16:37.168592475Z",
     "start_time": "2025-05-06T13:16:36.712345354Z"
    }
   },
   "cell_type": "code",
   "source": [
    "%useLatestDescriptors\n",
    "%use ktor-client\n",
    "%use serialization"
   ],
   "outputs": [],
   "execution_count": 7
  },
  {
   "metadata": {},
   "cell_type": "markdown",
   "source": "Модель для получения токена"
  },
  {
   "metadata": {
    "ExecuteTime": {
     "end_time": "2025-05-06T13:16:23.098869435Z",
     "start_time": "2025-05-06T13:16:21.930461637Z"
    }
   },
   "cell_type": "code",
   "source": [
    "@Serializable\n",
    "data class TokenResponse(\n",
    "    @SerialName(\"access_token\")  val accessToken:  String,\n",
    "    @SerialName(\"id_token\")      val idToken:      String,\n",
    "    @SerialName(\"refresh_token\") val refreshToken: String,\n",
    "    @SerialName(\"expires_in\")    val expiresIn:    Int,\n",
    "    @SerialName(\"refresh_expires_in\") val refreshExpiresIn: Int,\n",
    "    @SerialName(\"token_type\")    val tokenType:    String\n",
    ")"
   ],
   "outputs": [],
   "execution_count": 4
  },
  {
   "metadata": {},
   "cell_type": "markdown",
   "source": "Объявляем основные переменные"
  },
  {
   "metadata": {
    "ExecuteTime": {
     "end_time": "2025-05-06T13:20:14.702742586Z",
     "start_time": "2025-05-06T13:20:14.559618464Z"
    }
   },
   "cell_type": "code",
   "source": [
    "val CLIENT_ID = \"prosuaiApi\"\n",
    "val URL = \"https://sso.guap.ru:8443/realms/master/protocol/openid-connect/\"\n",
    "val login = System.getenv(\"login\")!!\n",
    "val password = System.getenv(\"password\")!!\n"
   ],
   "outputs": [],
   "execution_count": 17
  },
  {
   "metadata": {},
   "cell_type": "markdown",
   "source": "#### Простая реализация"
  },
  {
   "metadata": {},
   "cell_type": "markdown",
   "source": "Инициализация клиента"
  },
  {
   "metadata": {
    "ExecuteTime": {
     "end_time": "2025-05-06T13:20:16.951587520Z",
     "start_time": "2025-05-06T13:20:16.613160524Z"
    }
   },
   "cell_type": "code",
   "source": [
    "import io.ktor.client.HttpClient\n",
    "import io.ktor.client.plugins.contentnegotiation.ContentNegotiation\n",
    "import io.ktor.client.plugins.defaultRequest\n",
    "import io.ktor.client.plugins.logging.LogLevel\n",
    "import io.ktor.client.plugins.logging.Logging\n",
    "import io.ktor.serialization.kotlinx.json.json\n",
    "\n",
    "val client = HttpClient {\n",
    "    install(ContentNegotiation) {\n",
    "        json(Json { ignoreUnknownKeys = true }) // Устанавливаем десериализацию из JSON в объект\n",
    "    }\n",
    "\n",
    "    defaultRequest {\n",
    "        url(URL) // Устанавливаем ссылку по умолчанию\n",
    "    }\n",
    "}"
   ],
   "outputs": [],
   "execution_count": 18
  },
  {
   "metadata": {
    "ExecuteTime": {
     "end_time": "2025-05-06T14:09:44.709879375Z",
     "start_time": "2025-05-06T14:09:44.271856769Z"
    }
   },
   "cell_type": "code",
   "source": [
    "import io.ktor.client.call.body\n",
    "import io.ktor.client.request.forms.submitForm\n",
    "import io.ktor.client.statement.bodyAsText\n",
    "import io.ktor.client.statement.readBytes\n",
    "import io.ktor.http.Parameters\n",
    "import kotlinx.coroutines.runBlocking\n",
    "\n",
    "suspend fun HttpClient.getToken(login: String, password: String): TokenResponse {\n",
    "    return client.submitForm(\n",
    "        \"token\",\n",
    "        formParameters = Parameters.build {\n",
    "            append(\"client_id\", CLIENT_ID)\n",
    "            append(\"grant_type\", \"password\")\n",
    "            append(\"username\", login)\n",
    "            append(\"password\", password)\n",
    "            append(\"scope\", \"openid email profile roles\")\n",
    "        }\n",
    "    ).body()\n",
    "}\n",
    "\n",
    "val token = runBlocking{client.getToken(login, password)}\n",
    "// token // Ваш токен будет виден всем если вы поделитесь notebook"
   ],
   "outputs": [],
   "execution_count": 50
  },
  {
   "metadata": {},
   "cell_type": "markdown",
   "source": "Получим данные пользователя"
  },
  {
   "metadata": {
    "ExecuteTime": {
     "end_time": "2025-05-06T14:17:16.194531420Z",
     "start_time": "2025-05-06T14:17:15.797749992Z"
    }
   },
   "cell_type": "code",
   "source": [
    "import io.ktor.client.request.get\n",
    "import io.ktor.client.request.headers\n",
    "import io.ktor.http.HeaderValue\n",
    "import io.ktor.http.Headers\n",
    "import io.ktor.http.HttpHeaders\n",
    "import io.ktor.http.parameters\n",
    "\n",
    "val user = runBlocking {\n",
    "    val resp = client.get(\"userinfo\"){\n",
    "        headers{\n",
    "            append(HttpHeaders.Authorization, \"\"\"Bearer ${token.accessToken}\"\"\")\n",
    "        }\n",
    "    }\n",
    "    println(resp.status.value)\n",
    "    return@runBlocking resp.bodyAsText()\n",
    "}\n",
    "// user\n"
   ],
   "outputs": [
    {
     "name": "stdout",
     "output_type": "stream",
     "text": [
      "200\n"
     ]
    }
   ],
   "execution_count": 52
  }
 ],
 "metadata": {
  "kernelspec": {
   "display_name": "Kotlin",
   "language": "kotlin",
   "name": "kotlin"
  },
  "language_info": {
   "name": "kotlin",
   "version": "1.9.23",
   "mimetype": "text/x-kotlin",
   "file_extension": ".kt",
   "pygments_lexer": "kotlin",
   "codemirror_mode": "text/x-kotlin",
   "nbconvert_exporter": ""
  }
 },
 "nbformat": 4,
 "nbformat_minor": 0
}
